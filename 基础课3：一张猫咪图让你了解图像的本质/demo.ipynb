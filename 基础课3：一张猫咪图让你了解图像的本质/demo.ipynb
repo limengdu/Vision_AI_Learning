{
 "cells": [
  {
   "cell_type": "code",
   "execution_count": 1,
   "id": "15383388-cd30-4eb5-be7b-16fba3a28c78",
   "metadata": {},
   "outputs": [],
   "source": [
    "# 为了了解图像本质，我们需要先了解一下数组和矩阵的概念"
   ]
  },
  {
   "cell_type": "code",
   "execution_count": 2,
   "id": "d4517aa2-1885-4a15-89ba-bd7c76761ee3",
   "metadata": {},
   "outputs": [],
   "source": [
    "# 首先回忆一下，如何创建一个列表\n",
    "\n",
    "list_a = [1,2,3,4,5]"
   ]
  },
  {
   "cell_type": "code",
   "execution_count": 3,
   "id": "54d0dffa-1c59-4973-9c88-b26ba080d7c6",
   "metadata": {},
   "outputs": [
    {
     "data": {
      "text/plain": [
       "[1, 2, 3, 4, 5]"
      ]
     },
     "execution_count": 3,
     "metadata": {},
     "output_type": "execute_result"
    }
   ],
   "source": [
    "# 打印一下\n",
    "list_a"
   ]
  },
  {
   "cell_type": "code",
   "execution_count": 4,
   "id": "f07e5c79-33d6-44ae-9ab1-504e821c2df6",
   "metadata": {},
   "outputs": [
    {
     "data": {
      "text/plain": [
       "list"
      ]
     },
     "execution_count": 4,
     "metadata": {},
     "output_type": "execute_result"
    }
   ],
   "source": [
    "# 使用type命令查看数据类型，\n",
    "type(list_a)"
   ]
  },
  {
   "cell_type": "code",
   "execution_count": null,
   "id": "cf658d18-e0d4-4d98-9fb6-18e28742ec4a",
   "metadata": {},
   "outputs": [],
   "source": [
    "# 可以看到是Python的列表"
   ]
  },
  {
   "cell_type": "code",
   "execution_count": 5,
   "id": "1f1492fa-79fa-4d19-b8ec-a8d6d405f518",
   "metadata": {},
   "outputs": [],
   "source": [
    "# 再创建一个列表，使这个列表的元素仍然是列表"
   ]
  },
  {
   "cell_type": "code",
   "execution_count": 1,
   "id": "0dc1c945-0df1-4d4a-b01c-1d787b7ad032",
   "metadata": {},
   "outputs": [],
   "source": [
    "list_b = [ [1,2], [3,4], [5,6]  ]"
   ]
  },
  {
   "cell_type": "code",
   "execution_count": null,
   "id": "f7b3b14a-ff0a-4cd1-ad58-19775a35f867",
   "metadata": {},
   "outputs": [],
   "source": []
  },
  {
   "cell_type": "code",
   "execution_count": 7,
   "id": "213395c4-b741-4022-b9e6-61bfed124df8",
   "metadata": {},
   "outputs": [
    {
     "data": {
      "text/plain": [
       "[[1, 2], [3, 4], [5, 6]]"
      ]
     },
     "execution_count": 7,
     "metadata": {},
     "output_type": "execute_result"
    }
   ],
   "source": [
    "# 打印列表\n",
    "list_b"
   ]
  },
  {
   "cell_type": "code",
   "execution_count": 8,
   "id": "591cd606-52b4-4ac4-86e1-6510e51f7926",
   "metadata": {},
   "outputs": [
    {
     "data": {
      "text/plain": [
       "3"
      ]
     },
     "execution_count": 8,
     "metadata": {},
     "output_type": "execute_result"
    }
   ],
   "source": [
    "# 通过找数字索引，打印第list_b第2个元素的第1个元素\n",
    "list_b[1][0]"
   ]
  },
  {
   "cell_type": "code",
   "execution_count": 9,
   "id": "2f8f7583-4f2d-490e-8010-c90e8d503732",
   "metadata": {},
   "outputs": [],
   "source": [
    "# 这种结构我们也叫数组，比如list_a是一维数组，list_b是二维数组"
   ]
  },
  {
   "cell_type": "code",
   "execution_count": null,
   "id": "b8dbb745-b725-402f-ae4f-ed37bf08bf14",
   "metadata": {},
   "outputs": [],
   "source": []
  },
  {
   "cell_type": "code",
   "execution_count": null,
   "id": "36d0a8d4-0083-4296-bcd0-d312472b3b6f",
   "metadata": {},
   "outputs": [],
   "source": []
  },
  {
   "cell_type": "code",
   "execution_count": 10,
   "id": "af8dc419-0007-424d-b525-c0b64bba5fc5",
   "metadata": {},
   "outputs": [],
   "source": [
    "# 为了更高效的处理数组，我们常用numpy在这个包"
   ]
  },
  {
   "cell_type": "code",
   "execution_count": 3,
   "id": "4969c88f-8885-4469-ac80-42192f2b5d60",
   "metadata": {},
   "outputs": [],
   "source": [
    "# 首先导入numpy包，重命名一下\n",
    "import numpy as np"
   ]
  },
  {
   "cell_type": "code",
   "execution_count": null,
   "id": "a4d7bdd6-8bfe-4816-a1e9-9d0a863995bf",
   "metadata": {},
   "outputs": [],
   "source": []
  },
  {
   "cell_type": "code",
   "execution_count": 12,
   "id": "5159434f-0d1f-4c23-bc05-10dfd24f3b72",
   "metadata": {},
   "outputs": [],
   "source": [
    "# 那numpy如何创建数组呢？\n",
    "# 可以用Python列表直接转换"
   ]
  },
  {
   "cell_type": "code",
   "execution_count": 13,
   "id": "10d0fa81-43d5-446b-bede-80cbfb26537e",
   "metadata": {},
   "outputs": [],
   "source": [
    "# 首先创建一个Python 列表\n",
    "list_c = [1,2,3,4]"
   ]
  },
  {
   "cell_type": "code",
   "execution_count": 51,
   "id": "10cc86b8-8758-48cf-b474-72092fcc9c12",
   "metadata": {},
   "outputs": [
    {
     "data": {
      "text/plain": [
       "list"
      ]
     },
     "execution_count": 51,
     "metadata": {},
     "output_type": "execute_result"
    }
   ],
   "source": [
    "# 检查类型\n",
    "type(list_c)"
   ]
  },
  {
   "cell_type": "code",
   "execution_count": 52,
   "id": "cc7a42a2-b9e9-461c-99e0-149ae8dbe5bb",
   "metadata": {},
   "outputs": [],
   "source": [
    "# 在使用np.array()将Python列表转换为numpy的数组\n",
    "\n",
    "my_array = np.array(list_c)"
   ]
  },
  {
   "cell_type": "code",
   "execution_count": 53,
   "id": "88ae1544-427b-4e7d-8141-99e40cef0b65",
   "metadata": {},
   "outputs": [
    {
     "data": {
      "text/plain": [
       "numpy.ndarray"
      ]
     },
     "execution_count": 53,
     "metadata": {},
     "output_type": "execute_result"
    }
   ],
   "source": [
    "# 我们检查一下my_array的类型，\n",
    "type(my_array)"
   ]
  },
  {
   "cell_type": "code",
   "execution_count": null,
   "id": "cc5a832e-e065-49e1-9ac8-b29348c62643",
   "metadata": {},
   "outputs": [],
   "source": [
    "# 可以看到这个变量已经是numpy的数组了"
   ]
  },
  {
   "cell_type": "code",
   "execution_count": 54,
   "id": "34056d39-e8d7-47b7-a302-6f6816495e07",
   "metadata": {},
   "outputs": [
    {
     "data": {
      "text/plain": [
       "array([1, 2, 3, 4])"
      ]
     },
     "execution_count": 54,
     "metadata": {},
     "output_type": "execute_result"
    }
   ],
   "source": [
    "# 打印一下\n",
    "my_array"
   ]
  },
  {
   "cell_type": "code",
   "execution_count": null,
   "id": "c6e5a258-b06d-46b5-895b-901115910f84",
   "metadata": {},
   "outputs": [],
   "source": [
    "# 那numpy还有一些内置函数可以快速地创建数组"
   ]
  },
  {
   "cell_type": "code",
   "execution_count": 5,
   "id": "3959dee6-7299-4078-b27e-707a92baaa40",
   "metadata": {},
   "outputs": [
    {
     "data": {
      "text/plain": [
       "array([0, 1, 2, 3, 4, 5, 6, 7, 8, 9])"
      ]
     },
     "execution_count": 5,
     "metadata": {},
     "output_type": "execute_result"
    }
   ],
   "source": [
    "# 比如我们使用np.arange()可以快速创建连续数字的数组\n",
    "# 比如我创建一个0~9 的一维数组\n",
    "\n",
    "\n",
    "np.arange(0,10)"
   ]
  },
  {
   "cell_type": "code",
   "execution_count": 19,
   "id": "ca263be4-ff10-4db1-8d8a-dd5c3a648b88",
   "metadata": {},
   "outputs": [
    {
     "data": {
      "text/plain": [
       "array([0, 2, 4, 6, 8])"
      ]
     },
     "execution_count": 19,
     "metadata": {},
     "output_type": "execute_result"
    }
   ],
   "source": [
    "# jupyterlab中使用shift+tab可以查看函数的帮助文档（查看一下，此刻输入np.arange()，弹出对应函数帮助文档）\n",
    "\n",
    "# 可以看到这个arange()函数有start、stop和step参数，分别代表了起始值，终止值，以及步长\n",
    "\n",
    "# 如果我希望创建0~10中连续偶数的数组，只需将步长设为2（此刻输入np.arange(0,10,2)）\n",
    "\n",
    "\n",
    "np.arange(0,10,2)"
   ]
  },
  {
   "cell_type": "code",
   "execution_count": 20,
   "id": "d76ea740-92e5-4c31-9794-3300ba67b730",
   "metadata": {},
   "outputs": [
    {
     "data": {
      "text/plain": [
       "array([[1., 1., 1.],\n",
       "       [1., 1., 1.],\n",
       "       [1., 1., 1.]])"
      ]
     },
     "execution_count": 20,
     "metadata": {},
     "output_type": "execute_result"
    }
   ],
   "source": [
    "# 还可以用np.ones创建全是1的数组，（此时输入np.ones()，弹出帮助说明）\n",
    "# 比如我要创建一个大小为3*3的全1数组\n",
    "\n",
    "np.ones(shape=(3,3))"
   ]
  },
  {
   "cell_type": "code",
   "execution_count": 6,
   "id": "b7de7fb3-8be0-4a45-ae4e-299ba07792d5",
   "metadata": {},
   "outputs": [
    {
     "data": {
      "text/plain": [
       "array([[1., 1., 1.],\n",
       "       [1., 1., 1.],\n",
       "       [1., 1., 1.],\n",
       "       [1., 1., 1.],\n",
       "       [1., 1., 1.],\n",
       "       [1., 1., 1.],\n",
       "       [1., 1., 1.],\n",
       "       [1., 1., 1.],\n",
       "       [1., 1., 1.],\n",
       "       [1., 1., 1.]])"
      ]
     },
     "execution_count": 6,
     "metadata": {},
     "output_type": "execute_result"
    }
   ],
   "source": [
    "# 再创建一个大小为10*3的全1数组\n",
    "# 可以看到10是行数，3是列数\n",
    "\n",
    "np.ones(shape=(10,3))"
   ]
  },
  {
   "cell_type": "code",
   "execution_count": 7,
   "id": "2dff99bc-e78a-4c68-aa34-cf27d15d6539",
   "metadata": {},
   "outputs": [
    {
     "data": {
      "text/plain": [
       "array([[0., 0., 0., 0., 0.],\n",
       "       [0., 0., 0., 0., 0.],\n",
       "       [0., 0., 0., 0., 0.],\n",
       "       [0., 0., 0., 0., 0.],\n",
       "       [0., 0., 0., 0., 0.]])"
      ]
     },
     "execution_count": 7,
     "metadata": {},
     "output_type": "execute_result"
    }
   ],
   "source": [
    "# 或者使用np.zeros()全0数组\n",
    "# 比如创建大小为5*5的全0数组\n",
    "\n",
    "np.zeros(shape=(5,5))"
   ]
  },
  {
   "cell_type": "code",
   "execution_count": null,
   "id": "64c7e48f-d9b8-40be-84e9-3702a2d97347",
   "metadata": {},
   "outputs": [],
   "source": [
    "# 换行"
   ]
  },
  {
   "cell_type": "code",
   "execution_count": null,
   "id": "53a951ce-bcd4-425d-937a-4f19b79e5fdc",
   "metadata": {},
   "outputs": [],
   "source": [
    "# 换行"
   ]
  },
  {
   "cell_type": "code",
   "execution_count": null,
   "id": "52f83b9a-7240-43ff-9d3b-05cfd94acab9",
   "metadata": {},
   "outputs": [],
   "source": [
    "# 换行"
   ]
  },
  {
   "cell_type": "code",
   "execution_count": 23,
   "id": "ae50d775-048d-4784-84b6-e7568e1d7693",
   "metadata": {},
   "outputs": [],
   "source": [
    "# 我们再演示一下numpy的一些其他方法"
   ]
  },
  {
   "cell_type": "code",
   "execution_count": 24,
   "id": "b88180c2-b73c-4a1f-80c6-0f8d4165d4ad",
   "metadata": {},
   "outputs": [],
   "source": [
    "# 首先使用np.randint函数一些随机整数\n",
    "arr = np.random.randint(0,100,10)"
   ]
  },
  {
   "cell_type": "code",
   "execution_count": 25,
   "id": "70a96053-496d-43ac-b20c-a6e7aa836747",
   "metadata": {},
   "outputs": [
    {
     "data": {
      "text/plain": [
       "array([53, 86, 55, 17, 87, 12, 28, 95,  2, 44])"
      ]
     },
     "execution_count": 25,
     "metadata": {},
     "output_type": "execute_result"
    }
   ],
   "source": [
    "# 打印一下\n",
    "arr"
   ]
  },
  {
   "cell_type": "code",
   "execution_count": 26,
   "id": "31e195d1-0b34-45a8-902f-b8819f1a6a59",
   "metadata": {},
   "outputs": [
    {
     "data": {
      "text/plain": [
       "95"
      ]
     },
     "execution_count": 26,
     "metadata": {},
     "output_type": "execute_result"
    }
   ],
   "source": [
    "# 使用max获取最大值\n",
    "arr.max()"
   ]
  },
  {
   "cell_type": "code",
   "execution_count": 27,
   "id": "41d156e5-fcbe-44b1-9dc4-97f2df30d2c7",
   "metadata": {},
   "outputs": [
    {
     "data": {
      "text/plain": [
       "7"
      ]
     },
     "execution_count": 27,
     "metadata": {},
     "output_type": "execute_result"
    }
   ],
   "source": [
    "# 再使用argmax() 获取最大值的索引\n",
    "arr.argmax()"
   ]
  },
  {
   "cell_type": "code",
   "execution_count": 28,
   "id": "3397d159-d1e7-4fef-9a94-ef61758839ea",
   "metadata": {},
   "outputs": [
    {
     "data": {
      "text/plain": [
       "2"
      ]
     },
     "execution_count": 28,
     "metadata": {},
     "output_type": "execute_result"
    }
   ],
   "source": [
    "# 使用min函数获取最小值\n",
    "arr.min()"
   ]
  },
  {
   "cell_type": "code",
   "execution_count": 29,
   "id": "78609eb1-06c4-4d5d-a793-e30e0f7a0870",
   "metadata": {},
   "outputs": [
    {
     "data": {
      "text/plain": [
       "8"
      ]
     },
     "execution_count": 29,
     "metadata": {},
     "output_type": "execute_result"
    }
   ],
   "source": [
    "# 使用argmin获取最小值索引\n",
    "arr.argmin()"
   ]
  },
  {
   "cell_type": "code",
   "execution_count": 30,
   "id": "edeed617-bf91-44eb-aa5f-10be8a50db5c",
   "metadata": {},
   "outputs": [
    {
     "data": {
      "text/plain": [
       "47.9"
      ]
     },
     "execution_count": 30,
     "metadata": {},
     "output_type": "execute_result"
    }
   ],
   "source": [
    "# 使用mean()方法获取取平均值\n",
    "arr.mean()"
   ]
  },
  {
   "cell_type": "code",
   "execution_count": 31,
   "id": "14ef12ce-2882-4c61-b249-ba385f22a315",
   "metadata": {},
   "outputs": [
    {
     "data": {
      "text/plain": [
       "(10,)"
      ]
     },
     "execution_count": 31,
     "metadata": {},
     "output_type": "execute_result"
    }
   ],
   "source": [
    "# 如果要获取humpy数组的大小，使用numpy.shape，\n",
    "arr.shape"
   ]
  },
  {
   "cell_type": "code",
   "execution_count": 32,
   "id": "35abf013-cf98-4873-91c8-e2e6934b77fd",
   "metadata": {},
   "outputs": [
    {
     "data": {
      "text/plain": [
       "array([[53, 86],\n",
       "       [55, 17],\n",
       "       [87, 12],\n",
       "       [28, 95],\n",
       "       [ 2, 44]])"
      ]
     },
     "execution_count": 32,
     "metadata": {},
     "output_type": "execute_result"
    }
   ],
   "source": [
    "# 也可以使用reshape函数转换数组的形状，比如我将arr转换成5*2的数组\n",
    "arr.reshape((5,2))"
   ]
  },
  {
   "cell_type": "code",
   "execution_count": null,
   "id": "47b98b47-ad7a-4fa1-b4a1-a14c3ef01822",
   "metadata": {},
   "outputs": [],
   "source": [
    "# 可以看到变成了5行2列"
   ]
  },
  {
   "cell_type": "code",
   "execution_count": 33,
   "id": "745b3820-b54a-4810-9e52-48d6cf149919",
   "metadata": {},
   "outputs": [
    {
     "data": {
      "text/plain": [
       "array([[53, 86, 55, 17, 87],\n",
       "       [12, 28, 95,  2, 44]])"
      ]
     },
     "execution_count": 33,
     "metadata": {},
     "output_type": "execute_result"
    }
   ],
   "source": [
    "# 再变形成2行5列\n",
    "arr.reshape((2,5))"
   ]
  },
  {
   "cell_type": "code",
   "execution_count": 34,
   "id": "ef4d882f-3336-41bf-a222-9d8371d7eedd",
   "metadata": {},
   "outputs": [
    {
     "ename": "ValueError",
     "evalue": "cannot reshape array of size 10 into shape (2,10)",
     "output_type": "error",
     "traceback": [
      "\u001b[0;31m---------------------------------------------------------------------------\u001b[0m",
      "\u001b[0;31mValueError\u001b[0m                                Traceback (most recent call last)",
      "\u001b[0;32m<ipython-input-34-abc2abe0ff88>\u001b[0m in \u001b[0;36m<module>\u001b[0;34m\u001b[0m\n\u001b[1;32m      1\u001b[0m \u001b[0;31m# 尝试错误变形2*10\u001b[0m\u001b[0;34m\u001b[0m\u001b[0;34m\u001b[0m\u001b[0;34m\u001b[0m\u001b[0m\n\u001b[0;32m----> 2\u001b[0;31m \u001b[0marr\u001b[0m\u001b[0;34m.\u001b[0m\u001b[0mreshape\u001b[0m\u001b[0;34m(\u001b[0m\u001b[0;34m(\u001b[0m\u001b[0;36m2\u001b[0m\u001b[0;34m,\u001b[0m\u001b[0;36m10\u001b[0m\u001b[0;34m)\u001b[0m\u001b[0;34m)\u001b[0m\u001b[0;34m\u001b[0m\u001b[0;34m\u001b[0m\u001b[0m\n\u001b[0m",
      "\u001b[0;31mValueError\u001b[0m: cannot reshape array of size 10 into shape (2,10)"
     ]
    }
   ],
   "source": [
    "# 如果尝试变形为大小为2*10呢？看看效果\n",
    "arr.reshape((2,10))"
   ]
  },
  {
   "cell_type": "code",
   "execution_count": null,
   "id": "fdb9a0de-1813-4207-87a4-9531d5e0b795",
   "metadata": {},
   "outputs": [],
   "source": [
    "# 可以看到报错了，因为变形后的元素要求是20个，而我们原数组只有10个元素"
   ]
  },
  {
   "cell_type": "code",
   "execution_count": null,
   "id": "2f11c039-ca28-4bdd-a2f0-37dfd79f2a97",
   "metadata": {},
   "outputs": [],
   "source": []
  },
  {
   "cell_type": "code",
   "execution_count": null,
   "id": "689f587d-078f-4a27-9fe0-6ae9070fd010",
   "metadata": {},
   "outputs": [],
   "source": []
  },
  {
   "cell_type": "code",
   "execution_count": 35,
   "id": "04d3c006-0443-4b51-9c7e-f6c3708a9171",
   "metadata": {},
   "outputs": [],
   "source": [
    "# 那二维数组，我们在数学上也称为矩阵，我们再看一下numpy对矩阵的操作"
   ]
  },
  {
   "cell_type": "code",
   "execution_count": null,
   "id": "0e63168c-444e-4dae-81fa-e1cab8752275",
   "metadata": {},
   "outputs": [],
   "source": []
  },
  {
   "cell_type": "code",
   "execution_count": 9,
   "id": "c8a75f0a-8227-4220-9e3a-8328c14d1f26",
   "metadata": {},
   "outputs": [],
   "source": [
    "# 首先创建一个10*10 的矩阵\n",
    "matrix = np.arange(0,100).reshape((10,10))"
   ]
  },
  {
   "cell_type": "code",
   "execution_count": 37,
   "id": "063771b4-cf43-4a19-84a8-45f00e560b09",
   "metadata": {},
   "outputs": [
    {
     "data": {
      "text/plain": [
       "array([[ 0,  1,  2,  3,  4,  5,  6,  7,  8,  9],\n",
       "       [10, 11, 12, 13, 14, 15, 16, 17, 18, 19],\n",
       "       [20, 21, 22, 23, 24, 25, 26, 27, 28, 29],\n",
       "       [30, 31, 32, 33, 34, 35, 36, 37, 38, 39],\n",
       "       [40, 41, 42, 43, 44, 45, 46, 47, 48, 49],\n",
       "       [50, 51, 52, 53, 54, 55, 56, 57, 58, 59],\n",
       "       [60, 61, 62, 63, 64, 65, 66, 67, 68, 69],\n",
       "       [70, 71, 72, 73, 74, 75, 76, 77, 78, 79],\n",
       "       [80, 81, 82, 83, 84, 85, 86, 87, 88, 89],\n",
       "       [90, 91, 92, 93, 94, 95, 96, 97, 98, 99]])"
      ]
     },
     "execution_count": 37,
     "metadata": {},
     "output_type": "execute_result"
    }
   ],
   "source": [
    "matrix"
   ]
  },
  {
   "cell_type": "code",
   "execution_count": 38,
   "id": "823f3b62-69f3-4269-b305-129738cce1d7",
   "metadata": {},
   "outputs": [
    {
     "data": {
      "text/plain": [
       "(10, 10)"
      ]
     },
     "execution_count": 38,
     "metadata": {},
     "output_type": "execute_result"
    }
   ],
   "source": [
    "# 查看一下大小\n",
    "matrix.shape"
   ]
  },
  {
   "cell_type": "code",
   "execution_count": 39,
   "id": "ebed07b8-d3f4-45cb-83d4-17851aa2284b",
   "metadata": {},
   "outputs": [
    {
     "data": {
      "text/plain": [
       "24"
      ]
     },
     "execution_count": 39,
     "metadata": {},
     "output_type": "execute_result"
    }
   ],
   "source": [
    "# 使用中括号中加索引方式，获取矩阵对应元素，比如我获取第3行第5列元素\n",
    "matrix[2,4]"
   ]
  },
  {
   "cell_type": "code",
   "execution_count": 40,
   "id": "ad8c6130-f3c3-487f-a804-7412c4e11a15",
   "metadata": {},
   "outputs": [
    {
     "data": {
      "text/plain": [
       "86"
      ]
     },
     "execution_count": 40,
     "metadata": {},
     "output_type": "execute_result"
    }
   ],
   "source": [
    "# 再获取矩阵第9行第7列元素\n",
    "matrix[8,6]"
   ]
  },
  {
   "cell_type": "code",
   "execution_count": 41,
   "id": "8602fbee-6f06-409b-9b8c-7557a17ac944",
   "metadata": {},
   "outputs": [
    {
     "data": {
      "text/plain": [
       "array([20, 21, 22, 23, 24, 25, 26, 27, 28, 29])"
      ]
     },
     "execution_count": 41,
     "metadata": {},
     "output_type": "execute_result"
    }
   ],
   "source": [
    "# 如果要获取某一行所有元素，我们需要使用numpy的切片：\n",
    "# 比如我要获取第3行所有元素，只需将第二个位置变成冒号:\n",
    "matrix[2,:]"
   ]
  },
  {
   "cell_type": "code",
   "execution_count": 42,
   "id": "b3672e56-147a-4e36-87cd-59c972f99bc5",
   "metadata": {},
   "outputs": [
    {
     "data": {
      "text/plain": [
       "array([ 5, 15, 25, 35, 45, 55, 65, 75, 85, 95])"
      ]
     },
     "execution_count": 42,
     "metadata": {},
     "output_type": "execute_result"
    }
   ],
   "source": [
    "# 类似的，比如我要获取第6列所有元素，只需将第一个位置变成冒号:\n",
    "matrix[:,5]"
   ]
  },
  {
   "cell_type": "code",
   "execution_count": 43,
   "id": "ee3718d8-5642-4135-a99f-d6f59b2cbbfa",
   "metadata": {},
   "outputs": [
    {
     "data": {
      "text/plain": [
       "(10,)"
      ]
     },
     "execution_count": 43,
     "metadata": {},
     "output_type": "execute_result"
    }
   ],
   "source": [
    "# 查看shape\n",
    "matrix[:,5].shape"
   ]
  },
  {
   "cell_type": "code",
   "execution_count": 44,
   "id": "a01cd000-987d-4775-a4ec-4d1011b2382e",
   "metadata": {},
   "outputs": [
    {
     "data": {
      "text/plain": [
       "array([[ 5],\n",
       "       [15],\n",
       "       [25],\n",
       "       [35],\n",
       "       [45],\n",
       "       [55],\n",
       "       [65],\n",
       "       [75],\n",
       "       [85],\n",
       "       [95]])"
      ]
     },
     "execution_count": 44,
     "metadata": {},
     "output_type": "execute_result"
    }
   ],
   "source": [
    "# 用reshape恢复成原来的样子\n",
    "matrix[:,5].reshape((10,1))"
   ]
  },
  {
   "cell_type": "code",
   "execution_count": 10,
   "id": "88666438-ea33-4308-a1c8-540fba93159c",
   "metadata": {
    "tags": []
   },
   "outputs": [
    {
     "data": {
      "text/plain": [
       "array([[ 0,  1,  2,  3,  4,  5,  6,  7,  8,  9],\n",
       "       [10, 11, 12, 13, 14, 15, 16, 17, 18, 19],\n",
       "       [20, 21, 22, 23, 24, 25, 26, 27, 28, 29],\n",
       "       [30, 31, 32, 33, 34, 35, 36, 37, 38, 39],\n",
       "       [40, 41, 42, 43, 44, 45, 46, 47, 48, 49],\n",
       "       [50, 51, 52, 53, 54, 55, 56, 57, 58, 59],\n",
       "       [60, 61, 62, 63, 64, 65, 66, 67, 68, 69],\n",
       "       [70, 71, 72, 73, 74, 75, 76, 77, 78, 79],\n",
       "       [80, 81, 82, 83, 84, 85, 86, 87, 88, 89],\n",
       "       [90, 91, 92, 93, 94, 95, 96, 97, 98, 99]])"
      ]
     },
     "execution_count": 10,
     "metadata": {},
     "output_type": "execute_result"
    }
   ],
   "source": [
    "# 我们再说numpy获取矩阵一个区域的用法\n",
    "# 再看一下输出一下原来的matrix\n",
    "matrix"
   ]
  },
  {
   "cell_type": "code",
   "execution_count": 46,
   "id": "977d7dbf-47db-40af-877c-7418dc3f3945",
   "metadata": {},
   "outputs": [
    {
     "data": {
      "text/plain": [
       "array([[ 1,  2,  3],\n",
       "       [11, 12, 13],\n",
       "       [21, 22, 23]])"
      ]
     },
     "execution_count": 46,
     "metadata": {},
     "output_type": "execute_result"
    }
   ],
   "source": [
    "# 比如我要获取第1~3行，第2~4列矩阵，我们可以用数字配合冒号的方式来获取\n",
    "\n",
    "matrix[0:3,1:4]"
   ]
  },
  {
   "cell_type": "code",
   "execution_count": 47,
   "id": "dcee7511-3432-4ede-ac53-c7124fffc17f",
   "metadata": {},
   "outputs": [],
   "source": [
    "# 当然我们可以使用等号赋值语句，比如我将这些位置赋值0\n",
    "matrix[0:3,1:4] = 0"
   ]
  },
  {
   "cell_type": "code",
   "execution_count": 49,
   "id": "f4fcc62e-2d69-4ade-9387-8a1b052ceab5",
   "metadata": {
    "tags": []
   },
   "outputs": [
    {
     "data": {
      "text/plain": [
       "array([[ 0,  0,  0,  0,  4,  5,  6,  7,  8,  9],\n",
       "       [10,  0,  0,  0, 14, 15, 16, 17, 18, 19],\n",
       "       [20,  0,  0,  0, 24, 25, 26, 27, 28, 29],\n",
       "       [30, 31, 32, 33, 34, 35, 36, 37, 38, 39],\n",
       "       [40, 41, 42, 43, 44, 45, 46, 47, 48, 49],\n",
       "       [50, 51, 52, 53, 54, 55, 56, 57, 58, 59],\n",
       "       [60, 61, 62, 63, 64, 65, 66, 67, 68, 69],\n",
       "       [70, 71, 72, 73, 74, 75, 76, 77, 78, 79],\n",
       "       [80, 81, 82, 83, 84, 85, 86, 87, 88, 89],\n",
       "       [90, 91, 92, 93, 94, 95, 96, 97, 98, 99]])"
      ]
     },
     "execution_count": 49,
     "metadata": {},
     "output_type": "execute_result"
    }
   ],
   "source": [
    "# 查看新的矩阵长啥样\n",
    "matrix"
   ]
  },
  {
   "cell_type": "code",
   "execution_count": 11,
   "id": "7b148d3b-adf3-4d24-8526-43b1353775de",
   "metadata": {
    "tags": []
   },
   "outputs": [],
   "source": [
    "# 好，以上就是numpy对数组和矩阵的操作用法"
   ]
  },
  {
   "cell_type": "code",
   "execution_count": null,
   "id": "0e034fcf-bd7d-4cf6-896e-9bbcd251ba5a",
   "metadata": {},
   "outputs": [],
   "source": []
  }
 ],
 "metadata": {
  "kernelspec": {
   "display_name": "Python 3",
   "language": "python",
   "name": "python3"
  },
  "language_info": {
   "codemirror_mode": {
    "name": "ipython",
    "version": 3
   },
   "file_extension": ".py",
   "mimetype": "text/x-python",
   "name": "python",
   "nbconvert_exporter": "python",
   "pygments_lexer": "ipython3",
   "version": "3.7.10"
  }
 },
 "nbformat": 4,
 "nbformat_minor": 5
}
